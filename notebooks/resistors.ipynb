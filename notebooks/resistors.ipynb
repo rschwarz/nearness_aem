{
 "cells": [
  {
   "cell_type": "markdown",
   "id": "182ef3a0-9724-407d-bc98-9d26f7178bc0",
   "metadata": {},
   "source": [
    "# Resistor Values\n",
    "\n",
    "How to choose resistor values for summing mixer, to implement panning?"
   ]
  },
  {
   "cell_type": "code",
   "execution_count": 1,
   "id": "771dc0d2-c441-4009-aff1-c9daeece7c40",
   "metadata": {},
   "outputs": [],
   "source": [
    "import altair as alt\n",
    "import numpy as np\n",
    "import pandas as pd"
   ]
  },
  {
   "cell_type": "markdown",
   "id": "5ae7427f-be65-4020-af01-59bce338e9c0",
   "metadata": {},
   "source": [
    "## Constant Power Panning\n",
    "\n",
    "Following the formula given on [DSP StackExchange](https://dsp.stackexchange.com/a/21736/72857), based on _C. Roads: The Computer Music Tutorial_:\n",
    "\n",
    "For an angle $\\phi$ (ranging from -45° to 45°, where 0° denotes the center), the amplitude should be scaled by \n",
    "\n",
    "$$\n",
    "    \\frac{\\sqrt{2}}{2}\\left(\\cos{\\phi} + \\sin{\\phi}\\right), \\quad\n",
    "    \\frac{\\sqrt{2}}{2}\\left(\\cos{\\phi} - \\sin{\\phi}\\right)\n",
    "$$\n",
    "\n",
    "for the left and right channels, respectively.\n",
    "\n",
    "The extreme values of the angles have one of the amplitudes at 0, ie, all audio coming from one speaker.\n",
    "An angle of 45° signifies fully left, so the sorting on the charts may be confusing."
   ]
  },
  {
   "cell_type": "code",
   "execution_count": 2,
   "id": "99ef8043-ec8c-467b-8810-32afec54e21f",
   "metadata": {},
   "outputs": [],
   "source": [
    "def const_power_left(phi):\n",
    "    return np.sqrt(2)/2 * (np.cos(phi) + np.sin(phi))\n",
    "\n",
    "def const_power_right(phi):\n",
    "    return const_power_left(-phi)"
   ]
  },
  {
   "cell_type": "code",
   "execution_count": 24,
   "id": "a7df8725-5f22-4eec-aeee-56445a4d5648",
   "metadata": {},
   "outputs": [],
   "source": [
    "angles = np.arange(-45, 45 + 1, 1)"
   ]
  },
  {
   "cell_type": "code",
   "execution_count": 44,
   "id": "bb8a9b2b-f3af-48a4-bc6d-bada7ad522a9",
   "metadata": {},
   "outputs": [],
   "source": [
    "def amps(degrees):\n",
    "    radians = np.radians(degrees)\n",
    "    df = pd.DataFrame(dict(\n",
    "        angle=degrees,\n",
    "        radian=radians,\n",
    "        left=const_power_left(radians),\n",
    "        right=const_power_right(radians)\n",
    "    ))\n",
    "    return df"
   ]
  },
  {
   "cell_type": "code",
   "execution_count": 45,
   "id": "1c3fa588-5531-47aa-b1cb-26ea7379ea7c",
   "metadata": {},
   "outputs": [
    {
     "data": {
      "text/html": [
       "<div>\n",
       "<style scoped>\n",
       "    .dataframe tbody tr th:only-of-type {\n",
       "        vertical-align: middle;\n",
       "    }\n",
       "\n",
       "    .dataframe tbody tr th {\n",
       "        vertical-align: top;\n",
       "    }\n",
       "\n",
       "    .dataframe thead th {\n",
       "        text-align: right;\n",
       "    }\n",
       "</style>\n",
       "<table border=\"1\" class=\"dataframe\">\n",
       "  <thead>\n",
       "    <tr style=\"text-align: right;\">\n",
       "      <th></th>\n",
       "      <th>angle</th>\n",
       "      <th>radian</th>\n",
       "      <th>left</th>\n",
       "      <th>right</th>\n",
       "    </tr>\n",
       "  </thead>\n",
       "  <tbody>\n",
       "    <tr>\n",
       "      <th>0</th>\n",
       "      <td>-45</td>\n",
       "      <td>-0.785398</td>\n",
       "      <td>7.850462e-17</td>\n",
       "      <td>1.000000</td>\n",
       "    </tr>\n",
       "    <tr>\n",
       "      <th>1</th>\n",
       "      <td>-44</td>\n",
       "      <td>-0.767945</td>\n",
       "      <td>1.745241e-02</td>\n",
       "      <td>0.999848</td>\n",
       "    </tr>\n",
       "    <tr>\n",
       "      <th>2</th>\n",
       "      <td>-43</td>\n",
       "      <td>-0.750492</td>\n",
       "      <td>3.489950e-02</td>\n",
       "      <td>0.999391</td>\n",
       "    </tr>\n",
       "    <tr>\n",
       "      <th>3</th>\n",
       "      <td>-42</td>\n",
       "      <td>-0.733038</td>\n",
       "      <td>5.233596e-02</td>\n",
       "      <td>0.998630</td>\n",
       "    </tr>\n",
       "    <tr>\n",
       "      <th>4</th>\n",
       "      <td>-41</td>\n",
       "      <td>-0.715585</td>\n",
       "      <td>6.975647e-02</td>\n",
       "      <td>0.997564</td>\n",
       "    </tr>\n",
       "  </tbody>\n",
       "</table>\n",
       "</div>"
      ],
      "text/plain": [
       "   angle    radian          left     right\n",
       "0    -45 -0.785398  7.850462e-17  1.000000\n",
       "1    -44 -0.767945  1.745241e-02  0.999848\n",
       "2    -43 -0.750492  3.489950e-02  0.999391\n",
       "3    -42 -0.733038  5.233596e-02  0.998630\n",
       "4    -41 -0.715585  6.975647e-02  0.997564"
      ]
     },
     "execution_count": 45,
     "metadata": {},
     "output_type": "execute_result"
    }
   ],
   "source": [
    "df = amps(angles)\n",
    "df.head()"
   ]
  },
  {
   "cell_type": "code",
   "execution_count": 72,
   "id": "f47b8a6a-9cba-4111-acd2-b6d07be42ee0",
   "metadata": {},
   "outputs": [
    {
     "data": {
      "text/html": [
       "\n",
       "<style>\n",
       "  #altair-viz-f28c48b5f02e4697808dc29c093a9704.vega-embed {\n",
       "    width: 100%;\n",
       "    display: flex;\n",
       "  }\n",
       "\n",
       "  #altair-viz-f28c48b5f02e4697808dc29c093a9704.vega-embed details,\n",
       "  #altair-viz-f28c48b5f02e4697808dc29c093a9704.vega-embed details summary {\n",
       "    position: relative;\n",
       "  }\n",
       "</style>\n",
       "<div id=\"altair-viz-f28c48b5f02e4697808dc29c093a9704\"></div>\n",
       "<script type=\"text/javascript\">\n",
       "  var VEGA_DEBUG = (typeof VEGA_DEBUG == \"undefined\") ? {} : VEGA_DEBUG;\n",
       "  (function(spec, embedOpt){\n",
       "    let outputDiv = document.currentScript.previousElementSibling;\n",
       "    if (outputDiv.id !== \"altair-viz-f28c48b5f02e4697808dc29c093a9704\") {\n",
       "      outputDiv = document.getElementById(\"altair-viz-f28c48b5f02e4697808dc29c093a9704\");\n",
       "    }\n",
       "    const paths = {\n",
       "      \"vega\": \"https://cdn.jsdelivr.net/npm/vega@5?noext\",\n",
       "      \"vega-lib\": \"https://cdn.jsdelivr.net/npm/vega-lib?noext\",\n",
       "      \"vega-lite\": \"https://cdn.jsdelivr.net/npm/vega-lite@5.17.0?noext\",\n",
       "      \"vega-embed\": \"https://cdn.jsdelivr.net/npm/vega-embed@6?noext\",\n",
       "    };\n",
       "\n",
       "    function maybeLoadScript(lib, version) {\n",
       "      var key = `${lib.replace(\"-\", \"\")}_version`;\n",
       "      return (VEGA_DEBUG[key] == version) ?\n",
       "        Promise.resolve(paths[lib]) :\n",
       "        new Promise(function(resolve, reject) {\n",
       "          var s = document.createElement('script');\n",
       "          document.getElementsByTagName(\"head\")[0].appendChild(s);\n",
       "          s.async = true;\n",
       "          s.onload = () => {\n",
       "            VEGA_DEBUG[key] = version;\n",
       "            return resolve(paths[lib]);\n",
       "          };\n",
       "          s.onerror = () => reject(`Error loading script: ${paths[lib]}`);\n",
       "          s.src = paths[lib];\n",
       "        });\n",
       "    }\n",
       "\n",
       "    function showError(err) {\n",
       "      outputDiv.innerHTML = `<div class=\"error\" style=\"color:red;\">${err}</div>`;\n",
       "      throw err;\n",
       "    }\n",
       "\n",
       "    function displayChart(vegaEmbed) {\n",
       "      vegaEmbed(outputDiv, spec, embedOpt)\n",
       "        .catch(err => showError(`Javascript Error: ${err.message}<br>This usually means there's a typo in your chart specification. See the javascript console for the full traceback.`));\n",
       "    }\n",
       "\n",
       "    if(typeof define === \"function\" && define.amd) {\n",
       "      requirejs.config({paths});\n",
       "      require([\"vega-embed\"], displayChart, err => showError(`Error loading script: ${err.message}`));\n",
       "    } else {\n",
       "      maybeLoadScript(\"vega\", \"5\")\n",
       "        .then(() => maybeLoadScript(\"vega-lite\", \"5.17.0\"))\n",
       "        .then(() => maybeLoadScript(\"vega-embed\", \"6\"))\n",
       "        .catch(showError)\n",
       "        .then(() => displayChart(vegaEmbed));\n",
       "    }\n",
       "  })({\"config\": {\"view\": {\"continuousWidth\": 300, \"continuousHeight\": 300}}, \"layer\": [{\"mark\": {\"type\": \"line\", \"color\": \"blue\"}, \"encoding\": {\"x\": {\"field\": \"angle\", \"type\": \"quantitative\"}, \"y\": {\"field\": \"left\", \"type\": \"quantitative\"}}}, {\"mark\": {\"type\": \"line\", \"color\": \"red\"}, \"encoding\": {\"x\": {\"field\": \"angle\", \"type\": \"quantitative\"}, \"y\": {\"field\": \"right\", \"type\": \"quantitative\"}}}], \"data\": {\"name\": \"data-7d103d6558da269aa5cea0c1aaa822c3\"}, \"$schema\": \"https://vega.github.io/schema/vega-lite/v5.17.0.json\", \"datasets\": {\"data-7d103d6558da269aa5cea0c1aaa822c3\": [{\"angle\": -45, \"radian\": -0.7853981633974483, \"left\": 7.850462293418876e-17, \"right\": 1.0}, {\"angle\": -44, \"radian\": -0.767944870877505, \"left\": 0.017452406437283574, \"right\": 0.9998476951563913}, {\"angle\": -43, \"radian\": -0.7504915783575618, \"left\": 0.034899496702500976, \"right\": 0.9993908270190957}, {\"angle\": -42, \"radian\": -0.7330382858376184, \"left\": 0.05233595624294383, \"right\": 0.9986295347545739}, {\"angle\": -41, \"radian\": -0.7155849933176751, \"left\": 0.06975647374412533, \"right\": 0.9975640502598244}, {\"angle\": -40, \"radian\": -0.6981317007977318, \"left\": 0.08715574274765822, \"right\": 0.9961946980917454}, {\"angle\": -39, \"radian\": -0.6806784082777885, \"left\": 0.10452846326765354, \"right\": 0.9945218953682733}, {\"angle\": -38, \"radian\": -0.6632251157578453, \"left\": 0.12186934340514745, \"right\": 0.9925461516413221}, {\"angle\": -37, \"radian\": -0.6457718232379019, \"left\": 0.13917310096006544, \"right\": 0.9902680687415704}, {\"angle\": -36, \"radian\": -0.6283185307179586, \"left\": 0.1564344650402309, \"right\": 0.9876883405951378}, {\"angle\": -35, \"radian\": -0.6108652381980153, \"left\": 0.17364817766693041, \"right\": 0.9848077530122081}, {\"angle\": -34, \"radian\": -0.5934119456780721, \"left\": 0.19080899537654472, \"right\": 0.9816271834476641}, {\"angle\": -33, \"radian\": -0.5759586531581288, \"left\": 0.20791169081775937, \"right\": 0.9781476007338057}, {\"angle\": -32, \"radian\": -0.5585053606381855, \"left\": 0.22495105434386503, \"right\": 0.9743700647852354}, {\"angle\": -31, \"radian\": -0.5410520681182421, \"left\": 0.2419218955996678, \"right\": 0.9702957262759965}, {\"angle\": -30, \"radian\": -0.5235987755982988, \"left\": 0.25881904510252085, \"right\": 0.9659258262890683}, {\"angle\": -29, \"radian\": -0.5061454830783556, \"left\": 0.27563735581699916, \"right\": 0.9612616959383189}, {\"angle\": -28, \"radian\": -0.4886921905584123, \"left\": 0.29237170472273677, \"right\": 0.9563047559630355}, {\"angle\": -27, \"radian\": -0.47123889803846897, \"left\": 0.3090169943749475, \"right\": 0.9510565162951535}, {\"angle\": -26, \"radian\": -0.4537856055185257, \"left\": 0.32556815445715676, \"right\": 0.9455185755993168}, {\"angle\": -25, \"radian\": -0.4363323129985824, \"left\": 0.3420201433256687, \"right\": 0.9396926207859084}, {\"angle\": -24, \"radian\": -0.4188790204786391, \"left\": 0.3583679495453002, \"right\": 0.9335804264972019}, {\"angle\": -23, \"radian\": -0.4014257279586958, \"left\": 0.3746065934159121, \"right\": 0.9271838545667874}, {\"angle\": -22, \"radian\": -0.3839724354387525, \"left\": 0.3907311284892738, \"right\": 0.9205048534524404}, {\"angle\": -21, \"radian\": -0.3665191429188092, \"left\": 0.4067366430758002, \"right\": 0.913545457642601}, {\"angle\": -20, \"radian\": -0.3490658503988659, \"left\": 0.42261826174069955, \"right\": 0.90630778703665}, {\"angle\": -19, \"radian\": -0.33161255787892263, \"left\": 0.43837114678907746, \"right\": 0.898794046299167}, {\"angle\": -18, \"radian\": -0.3141592653589793, \"left\": 0.45399049973954686, \"right\": 0.8910065241883678}, {\"angle\": -17, \"radian\": -0.29670597283903605, \"left\": 0.46947156278589075, \"right\": 0.8829475928589271}, {\"angle\": -16, \"radian\": -0.2792526803190927, \"left\": 0.4848096202463371, \"right\": 0.8746197071393959}, {\"angle\": -15, \"radian\": -0.2617993877991494, \"left\": 0.5000000000000001, \"right\": 0.8660254037844386}, {\"angle\": -14, \"radian\": -0.24434609527920614, \"left\": 0.5150380749100543, \"right\": 0.8571673007021123}, {\"angle\": -13, \"radian\": -0.22689280275926285, \"left\": 0.529919264233205, \"right\": 0.8480480961564261}, {\"angle\": -12, \"radian\": -0.20943951023931956, \"left\": 0.5446390350150271, \"right\": 0.8386705679454242}, {\"angle\": -11, \"radian\": -0.19198621771937624, \"left\": 0.5591929034707469, \"right\": 0.8290375725550417}, {\"angle\": -10, \"radian\": -0.17453292519943295, \"left\": 0.5735764363510462, \"right\": 0.8191520442889919}, {\"angle\": -9, \"radian\": -0.15707963267948966, \"left\": 0.5877852522924732, \"right\": 0.8090169943749476}, {\"angle\": -8, \"radian\": -0.13962634015954636, \"left\": 0.6018150231520484, \"right\": 0.7986355100472929}, {\"angle\": -7, \"radian\": -0.12217304763960307, \"left\": 0.6156614753256583, \"right\": 0.788010753606722}, {\"angle\": -6, \"radian\": -0.10471975511965978, \"left\": 0.6293203910498374, \"right\": 0.7771459614569709}, {\"angle\": -5, \"radian\": -0.08726646259971647, \"left\": 0.6427876096865394, \"right\": 0.7660444431189781}, {\"angle\": -4, \"radian\": -0.06981317007977318, \"left\": 0.6560590289905073, \"right\": 0.7547095802227721}, {\"angle\": -3, \"radian\": -0.05235987755982989, \"left\": 0.6691306063588582, \"right\": 0.7431448254773942}, {\"angle\": -2, \"radian\": -0.03490658503988659, \"left\": 0.6819983600624986, \"right\": 0.7313537016191706}, {\"angle\": -1, \"radian\": -0.017453292519943295, \"left\": 0.6946583704589974, \"right\": 0.7193398003386511}, {\"angle\": 0, \"radian\": 0.0, \"left\": 0.7071067811865476, \"right\": 0.7071067811865476}, {\"angle\": 1, \"radian\": 0.017453292519943295, \"left\": 0.7193398003386511, \"right\": 0.6946583704589974}, {\"angle\": 2, \"radian\": 0.03490658503988659, \"left\": 0.7313537016191706, \"right\": 0.6819983600624986}, {\"angle\": 3, \"radian\": 0.05235987755982989, \"left\": 0.7431448254773942, \"right\": 0.6691306063588582}, {\"angle\": 4, \"radian\": 0.06981317007977318, \"left\": 0.7547095802227721, \"right\": 0.6560590289905073}, {\"angle\": 5, \"radian\": 0.08726646259971647, \"left\": 0.7660444431189781, \"right\": 0.6427876096865394}, {\"angle\": 6, \"radian\": 0.10471975511965978, \"left\": 0.7771459614569709, \"right\": 0.6293203910498374}, {\"angle\": 7, \"radian\": 0.12217304763960307, \"left\": 0.788010753606722, \"right\": 0.6156614753256583}, {\"angle\": 8, \"radian\": 0.13962634015954636, \"left\": 0.7986355100472929, \"right\": 0.6018150231520484}, {\"angle\": 9, \"radian\": 0.15707963267948966, \"left\": 0.8090169943749476, \"right\": 0.5877852522924732}, {\"angle\": 10, \"radian\": 0.17453292519943295, \"left\": 0.8191520442889919, \"right\": 0.5735764363510462}, {\"angle\": 11, \"radian\": 0.19198621771937624, \"left\": 0.8290375725550417, \"right\": 0.5591929034707469}, {\"angle\": 12, \"radian\": 0.20943951023931956, \"left\": 0.8386705679454242, \"right\": 0.5446390350150271}, {\"angle\": 13, \"radian\": 0.22689280275926285, \"left\": 0.8480480961564261, \"right\": 0.529919264233205}, {\"angle\": 14, \"radian\": 0.24434609527920614, \"left\": 0.8571673007021123, \"right\": 0.5150380749100543}, {\"angle\": 15, \"radian\": 0.2617993877991494, \"left\": 0.8660254037844386, \"right\": 0.5000000000000001}, {\"angle\": 16, \"radian\": 0.2792526803190927, \"left\": 0.8746197071393959, \"right\": 0.4848096202463371}, {\"angle\": 17, \"radian\": 0.29670597283903605, \"left\": 0.8829475928589271, \"right\": 0.46947156278589075}, {\"angle\": 18, \"radian\": 0.3141592653589793, \"left\": 0.8910065241883678, \"right\": 0.45399049973954686}, {\"angle\": 19, \"radian\": 0.33161255787892263, \"left\": 0.898794046299167, \"right\": 0.43837114678907746}, {\"angle\": 20, \"radian\": 0.3490658503988659, \"left\": 0.90630778703665, \"right\": 0.42261826174069955}, {\"angle\": 21, \"radian\": 0.3665191429188092, \"left\": 0.913545457642601, \"right\": 0.4067366430758002}, {\"angle\": 22, \"radian\": 0.3839724354387525, \"left\": 0.9205048534524404, \"right\": 0.3907311284892738}, {\"angle\": 23, \"radian\": 0.4014257279586958, \"left\": 0.9271838545667874, \"right\": 0.3746065934159121}, {\"angle\": 24, \"radian\": 0.4188790204786391, \"left\": 0.9335804264972019, \"right\": 0.3583679495453002}, {\"angle\": 25, \"radian\": 0.4363323129985824, \"left\": 0.9396926207859084, \"right\": 0.3420201433256687}, {\"angle\": 26, \"radian\": 0.4537856055185257, \"left\": 0.9455185755993168, \"right\": 0.32556815445715676}, {\"angle\": 27, \"radian\": 0.47123889803846897, \"left\": 0.9510565162951535, \"right\": 0.3090169943749475}, {\"angle\": 28, \"radian\": 0.4886921905584123, \"left\": 0.9563047559630355, \"right\": 0.29237170472273677}, {\"angle\": 29, \"radian\": 0.5061454830783556, \"left\": 0.9612616959383189, \"right\": 0.27563735581699916}, {\"angle\": 30, \"radian\": 0.5235987755982988, \"left\": 0.9659258262890683, \"right\": 0.25881904510252085}, {\"angle\": 31, \"radian\": 0.5410520681182421, \"left\": 0.9702957262759965, \"right\": 0.2419218955996678}, {\"angle\": 32, \"radian\": 0.5585053606381855, \"left\": 0.9743700647852354, \"right\": 0.22495105434386503}, {\"angle\": 33, \"radian\": 0.5759586531581288, \"left\": 0.9781476007338057, \"right\": 0.20791169081775937}, {\"angle\": 34, \"radian\": 0.5934119456780721, \"left\": 0.9816271834476641, \"right\": 0.19080899537654472}, {\"angle\": 35, \"radian\": 0.6108652381980153, \"left\": 0.9848077530122081, \"right\": 0.17364817766693041}, {\"angle\": 36, \"radian\": 0.6283185307179586, \"left\": 0.9876883405951378, \"right\": 0.1564344650402309}, {\"angle\": 37, \"radian\": 0.6457718232379019, \"left\": 0.9902680687415704, \"right\": 0.13917310096006544}, {\"angle\": 38, \"radian\": 0.6632251157578453, \"left\": 0.9925461516413221, \"right\": 0.12186934340514745}, {\"angle\": 39, \"radian\": 0.6806784082777885, \"left\": 0.9945218953682733, \"right\": 0.10452846326765354}, {\"angle\": 40, \"radian\": 0.6981317007977318, \"left\": 0.9961946980917454, \"right\": 0.08715574274765822}, {\"angle\": 41, \"radian\": 0.7155849933176751, \"left\": 0.9975640502598244, \"right\": 0.06975647374412533}, {\"angle\": 42, \"radian\": 0.7330382858376184, \"left\": 0.9986295347545739, \"right\": 0.05233595624294383}, {\"angle\": 43, \"radian\": 0.7504915783575618, \"left\": 0.9993908270190957, \"right\": 0.034899496702500976}, {\"angle\": 44, \"radian\": 0.767944870877505, \"left\": 0.9998476951563913, \"right\": 0.017452406437283574}, {\"angle\": 45, \"radian\": 0.7853981633974483, \"left\": 1.0, \"right\": 7.850462293418876e-17}]}}, {\"mode\": \"vega-lite\"});\n",
       "</script>"
      ],
      "text/plain": [
       "alt.LayerChart(...)"
      ]
     },
     "execution_count": 72,
     "metadata": {},
     "output_type": "execute_result"
    }
   ],
   "source": [
    "alt.Chart(df).mark_line(color=\"blue\").encode(x=\"angle\", y=\"left\") \\\n",
    "+ alt.Chart(df).mark_line(color=\"red\").encode(x=\"angle\", y=\"right\")"
   ]
  },
  {
   "cell_type": "code",
   "execution_count": 47,
   "id": "3dabacfe-f4b4-4422-acc0-5cb54deebabb",
   "metadata": {},
   "outputs": [
    {
     "data": {
      "text/plain": [
       "np.float64(4.440892098500626e-16)"
      ]
     },
     "execution_count": 47,
     "metadata": {},
     "output_type": "execute_result"
    }
   ],
   "source": [
    "# all on a circle of radius 1 (== constant power)\n",
    "np.max(np.abs(df[\"left\"]**2 + df[\"right\"]**2 - 1.0))"
   ]
  },
  {
   "cell_type": "markdown",
   "id": "846aa341-883c-4c22-bb69-b2a7e3d700b6",
   "metadata": {},
   "source": [
    "## Nearness positions\n",
    "\n",
    "Nearness features 7 panning position, in steps of 22.5° around the center."
   ]
  },
  {
   "cell_type": "code",
   "execution_count": 106,
   "id": "b03f5974-8a38-42be-8ff0-d45be8b75ce2",
   "metadata": {},
   "outputs": [
    {
     "data": {
      "text/html": [
       "<div>\n",
       "<style scoped>\n",
       "    .dataframe tbody tr th:only-of-type {\n",
       "        vertical-align: middle;\n",
       "    }\n",
       "\n",
       "    .dataframe tbody tr th {\n",
       "        vertical-align: top;\n",
       "    }\n",
       "\n",
       "    .dataframe thead th {\n",
       "        text-align: right;\n",
       "    }\n",
       "</style>\n",
       "<table border=\"1\" class=\"dataframe\">\n",
       "  <thead>\n",
       "    <tr style=\"text-align: right;\">\n",
       "      <th></th>\n",
       "      <th>angle</th>\n",
       "      <th>radian</th>\n",
       "      <th>left</th>\n",
       "      <th>right</th>\n",
       "    </tr>\n",
       "  </thead>\n",
       "  <tbody>\n",
       "    <tr>\n",
       "      <th>0</th>\n",
       "      <td>-33.75</td>\n",
       "      <td>-0.589049</td>\n",
       "      <td>0.195090</td>\n",
       "      <td>0.980785</td>\n",
       "    </tr>\n",
       "    <tr>\n",
       "      <th>1</th>\n",
       "      <td>-22.50</td>\n",
       "      <td>-0.392699</td>\n",
       "      <td>0.382683</td>\n",
       "      <td>0.923880</td>\n",
       "    </tr>\n",
       "    <tr>\n",
       "      <th>2</th>\n",
       "      <td>-11.25</td>\n",
       "      <td>-0.196350</td>\n",
       "      <td>0.555570</td>\n",
       "      <td>0.831470</td>\n",
       "    </tr>\n",
       "    <tr>\n",
       "      <th>3</th>\n",
       "      <td>0.00</td>\n",
       "      <td>0.000000</td>\n",
       "      <td>0.707107</td>\n",
       "      <td>0.707107</td>\n",
       "    </tr>\n",
       "    <tr>\n",
       "      <th>4</th>\n",
       "      <td>11.25</td>\n",
       "      <td>0.196350</td>\n",
       "      <td>0.831470</td>\n",
       "      <td>0.555570</td>\n",
       "    </tr>\n",
       "    <tr>\n",
       "      <th>5</th>\n",
       "      <td>22.50</td>\n",
       "      <td>0.392699</td>\n",
       "      <td>0.923880</td>\n",
       "      <td>0.382683</td>\n",
       "    </tr>\n",
       "    <tr>\n",
       "      <th>6</th>\n",
       "      <td>33.75</td>\n",
       "      <td>0.589049</td>\n",
       "      <td>0.980785</td>\n",
       "      <td>0.195090</td>\n",
       "    </tr>\n",
       "  </tbody>\n",
       "</table>\n",
       "</div>"
      ],
      "text/plain": [
       "   angle    radian      left     right\n",
       "0 -33.75 -0.589049  0.195090  0.980785\n",
       "1 -22.50 -0.392699  0.382683  0.923880\n",
       "2 -11.25 -0.196350  0.555570  0.831470\n",
       "3   0.00  0.000000  0.707107  0.707107\n",
       "4  11.25  0.196350  0.831470  0.555570\n",
       "5  22.50  0.392699  0.923880  0.382683\n",
       "6  33.75  0.589049  0.980785  0.195090"
      ]
     },
     "execution_count": 106,
     "metadata": {},
     "output_type": "execute_result"
    }
   ],
   "source": [
    "step = 22.5  # following the description\n",
    "# step = 30  # trying a more intuitive value?\n",
    "step = step / 2  # go from 180° intuition to 90° formula\n",
    "nearness_angles = np.array([-3*step, -2*step, -step, 0.0, step, 2*step, 3*step])\n",
    "\n",
    "dfn = amps(nearness_angles)\n",
    "dfn"
   ]
  },
  {
   "cell_type": "code",
   "execution_count": 107,
   "id": "481ad073-460d-44fc-bcba-39a5c63fc12b",
   "metadata": {},
   "outputs": [
    {
     "data": {
      "text/html": [
       "\n",
       "<style>\n",
       "  #altair-viz-ac7553e0b1104c7a84b4fc5e4efa5fe6.vega-embed {\n",
       "    width: 100%;\n",
       "    display: flex;\n",
       "  }\n",
       "\n",
       "  #altair-viz-ac7553e0b1104c7a84b4fc5e4efa5fe6.vega-embed details,\n",
       "  #altair-viz-ac7553e0b1104c7a84b4fc5e4efa5fe6.vega-embed details summary {\n",
       "    position: relative;\n",
       "  }\n",
       "</style>\n",
       "<div id=\"altair-viz-ac7553e0b1104c7a84b4fc5e4efa5fe6\"></div>\n",
       "<script type=\"text/javascript\">\n",
       "  var VEGA_DEBUG = (typeof VEGA_DEBUG == \"undefined\") ? {} : VEGA_DEBUG;\n",
       "  (function(spec, embedOpt){\n",
       "    let outputDiv = document.currentScript.previousElementSibling;\n",
       "    if (outputDiv.id !== \"altair-viz-ac7553e0b1104c7a84b4fc5e4efa5fe6\") {\n",
       "      outputDiv = document.getElementById(\"altair-viz-ac7553e0b1104c7a84b4fc5e4efa5fe6\");\n",
       "    }\n",
       "    const paths = {\n",
       "      \"vega\": \"https://cdn.jsdelivr.net/npm/vega@5?noext\",\n",
       "      \"vega-lib\": \"https://cdn.jsdelivr.net/npm/vega-lib?noext\",\n",
       "      \"vega-lite\": \"https://cdn.jsdelivr.net/npm/vega-lite@5.17.0?noext\",\n",
       "      \"vega-embed\": \"https://cdn.jsdelivr.net/npm/vega-embed@6?noext\",\n",
       "    };\n",
       "\n",
       "    function maybeLoadScript(lib, version) {\n",
       "      var key = `${lib.replace(\"-\", \"\")}_version`;\n",
       "      return (VEGA_DEBUG[key] == version) ?\n",
       "        Promise.resolve(paths[lib]) :\n",
       "        new Promise(function(resolve, reject) {\n",
       "          var s = document.createElement('script');\n",
       "          document.getElementsByTagName(\"head\")[0].appendChild(s);\n",
       "          s.async = true;\n",
       "          s.onload = () => {\n",
       "            VEGA_DEBUG[key] = version;\n",
       "            return resolve(paths[lib]);\n",
       "          };\n",
       "          s.onerror = () => reject(`Error loading script: ${paths[lib]}`);\n",
       "          s.src = paths[lib];\n",
       "        });\n",
       "    }\n",
       "\n",
       "    function showError(err) {\n",
       "      outputDiv.innerHTML = `<div class=\"error\" style=\"color:red;\">${err}</div>`;\n",
       "      throw err;\n",
       "    }\n",
       "\n",
       "    function displayChart(vegaEmbed) {\n",
       "      vegaEmbed(outputDiv, spec, embedOpt)\n",
       "        .catch(err => showError(`Javascript Error: ${err.message}<br>This usually means there's a typo in your chart specification. See the javascript console for the full traceback.`));\n",
       "    }\n",
       "\n",
       "    if(typeof define === \"function\" && define.amd) {\n",
       "      requirejs.config({paths});\n",
       "      require([\"vega-embed\"], displayChart, err => showError(`Error loading script: ${err.message}`));\n",
       "    } else {\n",
       "      maybeLoadScript(\"vega\", \"5\")\n",
       "        .then(() => maybeLoadScript(\"vega-lite\", \"5.17.0\"))\n",
       "        .then(() => maybeLoadScript(\"vega-embed\", \"6\"))\n",
       "        .catch(showError)\n",
       "        .then(() => displayChart(vegaEmbed));\n",
       "    }\n",
       "  })({\"config\": {\"view\": {\"continuousWidth\": 300, \"continuousHeight\": 300}}, \"layer\": [{\"mark\": {\"type\": \"point\", \"color\": \"blue\"}, \"encoding\": {\"x\": {\"field\": \"angle\", \"type\": \"quantitative\"}, \"y\": {\"field\": \"left\", \"type\": \"quantitative\"}}}, {\"mark\": {\"type\": \"point\", \"color\": \"red\"}, \"encoding\": {\"x\": {\"field\": \"angle\", \"type\": \"quantitative\"}, \"y\": {\"field\": \"right\", \"type\": \"quantitative\"}}}], \"data\": {\"name\": \"data-f30137c1e9a2d0d96eebf95c8cbf3845\"}, \"$schema\": \"https://vega.github.io/schema/vega-lite/v5.17.0.json\", \"datasets\": {\"data-f30137c1e9a2d0d96eebf95c8cbf3845\": [{\"angle\": -33.75, \"radian\": -0.5890486225480862, \"left\": 0.1950903220161283, \"right\": 0.9807852804032305}, {\"angle\": -22.5, \"radian\": -0.39269908169872414, \"left\": 0.3826834323650897, \"right\": 0.9238795325112868}, {\"angle\": -11.25, \"radian\": -0.19634954084936207, \"left\": 0.5555702330196023, \"right\": 0.8314696123025452}, {\"angle\": 0.0, \"radian\": 0.0, \"left\": 0.7071067811865476, \"right\": 0.7071067811865476}, {\"angle\": 11.25, \"radian\": 0.19634954084936207, \"left\": 0.8314696123025452, \"right\": 0.5555702330196023}, {\"angle\": 22.5, \"radian\": 0.39269908169872414, \"left\": 0.9238795325112868, \"right\": 0.3826834323650897}, {\"angle\": 33.75, \"radian\": 0.5890486225480862, \"left\": 0.9807852804032305, \"right\": 0.1950903220161283}]}}, {\"mode\": \"vega-lite\"});\n",
       "</script>"
      ],
      "text/plain": [
       "alt.LayerChart(...)"
      ]
     },
     "execution_count": 107,
     "metadata": {},
     "output_type": "execute_result"
    }
   ],
   "source": [
    "alt.Chart(dfn).mark_point(color=\"blue\").encode(x=\"angle\", y=\"left\")\\\n",
    "+ alt.Chart(dfn).mark_point(color=\"red\").encode(x=\"angle\", y=\"right\")"
   ]
  },
  {
   "cell_type": "markdown",
   "id": "c850bda6-f1e1-4e20-84c8-52fdbb958f64",
   "metadata": {},
   "source": [
    "## Nearness resistor values"
   ]
  },
  {
   "cell_type": "code",
   "execution_count": 108,
   "id": "c3cdb301-caa8-499a-bf78-666a9ded56c1",
   "metadata": {},
   "outputs": [],
   "source": [
    "# resistor values in Kilo Ohm\n",
    "res = [100., 103., 113., 141., 215., 439., 1670.]\n",
    "dfn[\"resistors_right\"] = res\n",
    "dfn[\"resistors_left\"] = res[::-1]"
   ]
  },
  {
   "cell_type": "markdown",
   "id": "01ae24c9-be7e-40c8-bd74-c3d9b6143329",
   "metadata": {},
   "source": [
    "### Inverse of resistance?"
   ]
  },
  {
   "cell_type": "code",
   "execution_count": 109,
   "id": "f140f6b5-3f65-405f-a751-5c99970804f4",
   "metadata": {},
   "outputs": [],
   "source": [
    "# take inverses, as a guess for the amplification factor\n",
    "dfn[\"res_inv_left\"] = 100.0 / dfn[\"resistors_left\"]"
   ]
  },
  {
   "cell_type": "code",
   "execution_count": 110,
   "id": "de633084-d58c-4b3f-a2b5-f263783ed44f",
   "metadata": {},
   "outputs": [
    {
     "data": {
      "text/html": [
       "\n",
       "<style>\n",
       "  #altair-viz-3dcbdf34e8a64c0db30106b83ea19023.vega-embed {\n",
       "    width: 100%;\n",
       "    display: flex;\n",
       "  }\n",
       "\n",
       "  #altair-viz-3dcbdf34e8a64c0db30106b83ea19023.vega-embed details,\n",
       "  #altair-viz-3dcbdf34e8a64c0db30106b83ea19023.vega-embed details summary {\n",
       "    position: relative;\n",
       "  }\n",
       "</style>\n",
       "<div id=\"altair-viz-3dcbdf34e8a64c0db30106b83ea19023\"></div>\n",
       "<script type=\"text/javascript\">\n",
       "  var VEGA_DEBUG = (typeof VEGA_DEBUG == \"undefined\") ? {} : VEGA_DEBUG;\n",
       "  (function(spec, embedOpt){\n",
       "    let outputDiv = document.currentScript.previousElementSibling;\n",
       "    if (outputDiv.id !== \"altair-viz-3dcbdf34e8a64c0db30106b83ea19023\") {\n",
       "      outputDiv = document.getElementById(\"altair-viz-3dcbdf34e8a64c0db30106b83ea19023\");\n",
       "    }\n",
       "    const paths = {\n",
       "      \"vega\": \"https://cdn.jsdelivr.net/npm/vega@5?noext\",\n",
       "      \"vega-lib\": \"https://cdn.jsdelivr.net/npm/vega-lib?noext\",\n",
       "      \"vega-lite\": \"https://cdn.jsdelivr.net/npm/vega-lite@5.17.0?noext\",\n",
       "      \"vega-embed\": \"https://cdn.jsdelivr.net/npm/vega-embed@6?noext\",\n",
       "    };\n",
       "\n",
       "    function maybeLoadScript(lib, version) {\n",
       "      var key = `${lib.replace(\"-\", \"\")}_version`;\n",
       "      return (VEGA_DEBUG[key] == version) ?\n",
       "        Promise.resolve(paths[lib]) :\n",
       "        new Promise(function(resolve, reject) {\n",
       "          var s = document.createElement('script');\n",
       "          document.getElementsByTagName(\"head\")[0].appendChild(s);\n",
       "          s.async = true;\n",
       "          s.onload = () => {\n",
       "            VEGA_DEBUG[key] = version;\n",
       "            return resolve(paths[lib]);\n",
       "          };\n",
       "          s.onerror = () => reject(`Error loading script: ${paths[lib]}`);\n",
       "          s.src = paths[lib];\n",
       "        });\n",
       "    }\n",
       "\n",
       "    function showError(err) {\n",
       "      outputDiv.innerHTML = `<div class=\"error\" style=\"color:red;\">${err}</div>`;\n",
       "      throw err;\n",
       "    }\n",
       "\n",
       "    function displayChart(vegaEmbed) {\n",
       "      vegaEmbed(outputDiv, spec, embedOpt)\n",
       "        .catch(err => showError(`Javascript Error: ${err.message}<br>This usually means there's a typo in your chart specification. See the javascript console for the full traceback.`));\n",
       "    }\n",
       "\n",
       "    if(typeof define === \"function\" && define.amd) {\n",
       "      requirejs.config({paths});\n",
       "      require([\"vega-embed\"], displayChart, err => showError(`Error loading script: ${err.message}`));\n",
       "    } else {\n",
       "      maybeLoadScript(\"vega\", \"5\")\n",
       "        .then(() => maybeLoadScript(\"vega-lite\", \"5.17.0\"))\n",
       "        .then(() => maybeLoadScript(\"vega-embed\", \"6\"))\n",
       "        .catch(showError)\n",
       "        .then(() => displayChart(vegaEmbed));\n",
       "    }\n",
       "  })({\"config\": {\"view\": {\"continuousWidth\": 300, \"continuousHeight\": 300}}, \"data\": {\"name\": \"data-afb370c654ce74ffd9a8f48dabc35b1f\"}, \"mark\": {\"type\": \"point\"}, \"encoding\": {\"x\": {\"field\": \"left\", \"type\": \"quantitative\"}, \"y\": {\"field\": \"res_inv_left\", \"type\": \"quantitative\"}}, \"$schema\": \"https://vega.github.io/schema/vega-lite/v5.17.0.json\", \"datasets\": {\"data-afb370c654ce74ffd9a8f48dabc35b1f\": [{\"angle\": -33.75, \"radian\": -0.5890486225480862, \"left\": 0.1950903220161283, \"right\": 0.9807852804032305, \"resistors_right\": 100.0, \"resistors_left\": 1670.0, \"res_inv_left\": 0.059880239520958084}, {\"angle\": -22.5, \"radian\": -0.39269908169872414, \"left\": 0.3826834323650897, \"right\": 0.9238795325112868, \"resistors_right\": 103.0, \"resistors_left\": 439.0, \"res_inv_left\": 0.22779043280182232}, {\"angle\": -11.25, \"radian\": -0.19634954084936207, \"left\": 0.5555702330196023, \"right\": 0.8314696123025452, \"resistors_right\": 113.0, \"resistors_left\": 215.0, \"res_inv_left\": 0.46511627906976744}, {\"angle\": 0.0, \"radian\": 0.0, \"left\": 0.7071067811865476, \"right\": 0.7071067811865476, \"resistors_right\": 141.0, \"resistors_left\": 141.0, \"res_inv_left\": 0.7092198581560284}, {\"angle\": 11.25, \"radian\": 0.19634954084936207, \"left\": 0.8314696123025452, \"right\": 0.5555702330196023, \"resistors_right\": 215.0, \"resistors_left\": 113.0, \"res_inv_left\": 0.8849557522123894}, {\"angle\": 22.5, \"radian\": 0.39269908169872414, \"left\": 0.9238795325112868, \"right\": 0.3826834323650897, \"resistors_right\": 439.0, \"resistors_left\": 103.0, \"res_inv_left\": 0.970873786407767}, {\"angle\": 33.75, \"radian\": 0.5890486225480862, \"left\": 0.9807852804032305, \"right\": 0.1950903220161283, \"resistors_right\": 1670.0, \"resistors_left\": 100.0, \"res_inv_left\": 1.0}]}}, {\"mode\": \"vega-lite\"});\n",
       "</script>"
      ],
      "text/plain": [
       "alt.Chart(...)"
      ]
     },
     "execution_count": 110,
     "metadata": {},
     "output_type": "execute_result"
    }
   ],
   "source": [
    "alt.Chart(dfn).mark_point().encode(x=\"left\", y=\"res_inv_left\")"
   ]
  },
  {
   "cell_type": "markdown",
   "id": "ce95bb71-d02d-41e9-a943-5926052c9338",
   "metadata": {},
   "source": [
    "This is a match at the center $(0.7, 0.7)$, but a nonlinear map, otherwise..."
   ]
  },
  {
   "cell_type": "markdown",
   "id": "aa4d44a0-b648-4105-99e3-d1e6cc8b1eae",
   "metadata": {},
   "source": [
    "### Left / right ratio?"
   ]
  },
  {
   "cell_type": "code",
   "execution_count": 111,
   "id": "998065df-6daa-4f4a-a512-606b4fd3ae02",
   "metadata": {},
   "outputs": [],
   "source": [
    "dfn[\"amp_ratio\"] = dfn[\"left\"] / dfn[\"right\"]\n",
    "dfn[\"resistor_ratio\"] = dfn[\"resistors_right\"] / dfn[\"resistors_left\"]"
   ]
  },
  {
   "cell_type": "code",
   "execution_count": 112,
   "id": "7bd5de1f-d26a-45df-a937-e2df30580d28",
   "metadata": {},
   "outputs": [
    {
     "data": {
      "text/html": [
       "\n",
       "<style>\n",
       "  #altair-viz-f9a443a156c44a5ab3a27d42a0533630.vega-embed {\n",
       "    width: 100%;\n",
       "    display: flex;\n",
       "  }\n",
       "\n",
       "  #altair-viz-f9a443a156c44a5ab3a27d42a0533630.vega-embed details,\n",
       "  #altair-viz-f9a443a156c44a5ab3a27d42a0533630.vega-embed details summary {\n",
       "    position: relative;\n",
       "  }\n",
       "</style>\n",
       "<div id=\"altair-viz-f9a443a156c44a5ab3a27d42a0533630\"></div>\n",
       "<script type=\"text/javascript\">\n",
       "  var VEGA_DEBUG = (typeof VEGA_DEBUG == \"undefined\") ? {} : VEGA_DEBUG;\n",
       "  (function(spec, embedOpt){\n",
       "    let outputDiv = document.currentScript.previousElementSibling;\n",
       "    if (outputDiv.id !== \"altair-viz-f9a443a156c44a5ab3a27d42a0533630\") {\n",
       "      outputDiv = document.getElementById(\"altair-viz-f9a443a156c44a5ab3a27d42a0533630\");\n",
       "    }\n",
       "    const paths = {\n",
       "      \"vega\": \"https://cdn.jsdelivr.net/npm/vega@5?noext\",\n",
       "      \"vega-lib\": \"https://cdn.jsdelivr.net/npm/vega-lib?noext\",\n",
       "      \"vega-lite\": \"https://cdn.jsdelivr.net/npm/vega-lite@5.17.0?noext\",\n",
       "      \"vega-embed\": \"https://cdn.jsdelivr.net/npm/vega-embed@6?noext\",\n",
       "    };\n",
       "\n",
       "    function maybeLoadScript(lib, version) {\n",
       "      var key = `${lib.replace(\"-\", \"\")}_version`;\n",
       "      return (VEGA_DEBUG[key] == version) ?\n",
       "        Promise.resolve(paths[lib]) :\n",
       "        new Promise(function(resolve, reject) {\n",
       "          var s = document.createElement('script');\n",
       "          document.getElementsByTagName(\"head\")[0].appendChild(s);\n",
       "          s.async = true;\n",
       "          s.onload = () => {\n",
       "            VEGA_DEBUG[key] = version;\n",
       "            return resolve(paths[lib]);\n",
       "          };\n",
       "          s.onerror = () => reject(`Error loading script: ${paths[lib]}`);\n",
       "          s.src = paths[lib];\n",
       "        });\n",
       "    }\n",
       "\n",
       "    function showError(err) {\n",
       "      outputDiv.innerHTML = `<div class=\"error\" style=\"color:red;\">${err}</div>`;\n",
       "      throw err;\n",
       "    }\n",
       "\n",
       "    function displayChart(vegaEmbed) {\n",
       "      vegaEmbed(outputDiv, spec, embedOpt)\n",
       "        .catch(err => showError(`Javascript Error: ${err.message}<br>This usually means there's a typo in your chart specification. See the javascript console for the full traceback.`));\n",
       "    }\n",
       "\n",
       "    if(typeof define === \"function\" && define.amd) {\n",
       "      requirejs.config({paths});\n",
       "      require([\"vega-embed\"], displayChart, err => showError(`Error loading script: ${err.message}`));\n",
       "    } else {\n",
       "      maybeLoadScript(\"vega\", \"5\")\n",
       "        .then(() => maybeLoadScript(\"vega-lite\", \"5.17.0\"))\n",
       "        .then(() => maybeLoadScript(\"vega-embed\", \"6\"))\n",
       "        .catch(showError)\n",
       "        .then(() => displayChart(vegaEmbed));\n",
       "    }\n",
       "  })({\"config\": {\"view\": {\"continuousWidth\": 300, \"continuousHeight\": 300}}, \"data\": {\"name\": \"data-23eaf4839f5499a3a80d4926c6d1a4fa\"}, \"mark\": {\"type\": \"point\"}, \"encoding\": {\"x\": {\"field\": \"resistor_ratio\", \"type\": \"quantitative\"}, \"y\": {\"field\": \"amp_ratio\", \"type\": \"quantitative\"}}, \"$schema\": \"https://vega.github.io/schema/vega-lite/v5.17.0.json\", \"datasets\": {\"data-23eaf4839f5499a3a80d4926c6d1a4fa\": [{\"angle\": -33.75, \"radian\": -0.5890486225480862, \"left\": 0.1950903220161283, \"right\": 0.9807852804032305, \"resistors_right\": 100.0, \"resistors_left\": 1670.0, \"res_inv_left\": 0.059880239520958084, \"amp_ratio\": 0.19891236737965803, \"resistor_ratio\": 0.059880239520958084}, {\"angle\": -22.5, \"radian\": -0.39269908169872414, \"left\": 0.3826834323650897, \"right\": 0.9238795325112868, \"resistors_right\": 103.0, \"resistors_left\": 439.0, \"res_inv_left\": 0.22779043280182232, \"amp_ratio\": 0.414213562373095, \"resistor_ratio\": 0.23462414578587698}, {\"angle\": -11.25, \"radian\": -0.19634954084936207, \"left\": 0.5555702330196023, \"right\": 0.8314696123025452, \"resistors_right\": 113.0, \"resistors_left\": 215.0, \"res_inv_left\": 0.46511627906976744, \"amp_ratio\": 0.668178637919299, \"resistor_ratio\": 0.5255813953488372}, {\"angle\": 0.0, \"radian\": 0.0, \"left\": 0.7071067811865476, \"right\": 0.7071067811865476, \"resistors_right\": 141.0, \"resistors_left\": 141.0, \"res_inv_left\": 0.7092198581560284, \"amp_ratio\": 1.0, \"resistor_ratio\": 1.0}, {\"angle\": 11.25, \"radian\": 0.19634954084936207, \"left\": 0.8314696123025452, \"right\": 0.5555702330196023, \"resistors_right\": 215.0, \"resistors_left\": 113.0, \"res_inv_left\": 0.8849557522123894, \"amp_ratio\": 1.496605762665489, \"resistor_ratio\": 1.9026548672566372}, {\"angle\": 22.5, \"radian\": 0.39269908169872414, \"left\": 0.9238795325112868, \"right\": 0.3826834323650897, \"resistors_right\": 439.0, \"resistors_left\": 103.0, \"res_inv_left\": 0.970873786407767, \"amp_ratio\": 2.4142135623730954, \"resistor_ratio\": 4.262135922330097}, {\"angle\": 33.75, \"radian\": 0.5890486225480862, \"left\": 0.9807852804032305, \"right\": 0.1950903220161283, \"resistors_right\": 1670.0, \"resistors_left\": 100.0, \"res_inv_left\": 1.0, \"amp_ratio\": 5.027339492125848, \"resistor_ratio\": 16.7}]}}, {\"mode\": \"vega-lite\"});\n",
       "</script>"
      ],
      "text/plain": [
       "alt.Chart(...)"
      ]
     },
     "execution_count": 112,
     "metadata": {},
     "output_type": "execute_result"
    }
   ],
   "source": [
    "alt.Chart(dfn).mark_point().encode(x=\"resistor_ratio\", y=\"amp_ratio\")"
   ]
  },
  {
   "cell_type": "markdown",
   "id": "bd70a1da-c822-4a12-bd2c-3b2c960340e2",
   "metadata": {},
   "source": [
    "Still no linear mapping..."
   ]
  },
  {
   "cell_type": "code",
   "execution_count": 116,
   "id": "947b713a-c8cc-46fc-8e9b-604efc15797f",
   "metadata": {},
   "outputs": [
    {
     "data": {
      "text/plain": [
       "0     22.5\n",
       "1     45.0\n",
       "2     67.5\n",
       "3     90.0\n",
       "4    112.5\n",
       "5    135.0\n",
       "6    157.5\n",
       "Name: amp_ratio, dtype: float64"
      ]
     },
     "execution_count": 116,
     "metadata": {},
     "output_type": "execute_result"
    }
   ],
   "source": [
    "np.degrees(np.atan(dfn[\"amp_ratio\"])) * 2"
   ]
  },
  {
   "cell_type": "code",
   "execution_count": 125,
   "id": "86c57b0c-3a49-43ed-848e-edd29fcf3ff1",
   "metadata": {},
   "outputs": [
    {
     "data": {
      "text/plain": [
       "array([  6.85358631,  26.40828329,  55.45116085,  90.        ,\n",
       "       124.54883915, 153.59171671, 173.14641369])"
      ]
     },
     "execution_count": 125,
     "metadata": {},
     "output_type": "execute_result"
    }
   ],
   "source": [
    "res_ratio_degs = (np.degrees(np.atan(dfn[\"resistor_ratio\"])) * 2).values\n",
    "res_ratio_degs"
   ]
  },
  {
   "cell_type": "code",
   "execution_count": 128,
   "id": "607a1b9d-8b6a-4079-b9be-d1333240c1fb",
   "metadata": {},
   "outputs": [
    {
     "data": {
      "text/plain": [
       "array([19.55469698, 29.04287755, 34.54883915, 34.54883915, 29.04287755,\n",
       "       19.55469698])"
      ]
     },
     "execution_count": 128,
     "metadata": {},
     "output_type": "execute_result"
    }
   ],
   "source": [
    "res_ratio_degs[1:] - res_ratio_degs[:-1]"
   ]
  },
  {
   "cell_type": "markdown",
   "id": "b123937d-4882-45e1-a037-9674642ccc25",
   "metadata": {},
   "source": [
    "Reverse-engineered angle degrees imply non-equal steps"
   ]
  },
  {
   "cell_type": "code",
   "execution_count": null,
   "id": "028286a5-b686-4290-8acd-5c92b8d0ee9b",
   "metadata": {},
   "outputs": [],
   "source": []
  }
 ],
 "metadata": {
  "kernelspec": {
   "display_name": "Python 3 (ipykernel)",
   "language": "python",
   "name": "python3"
  },
  "language_info": {
   "codemirror_mode": {
    "name": "ipython",
    "version": 3
   },
   "file_extension": ".py",
   "mimetype": "text/x-python",
   "name": "python",
   "nbconvert_exporter": "python",
   "pygments_lexer": "ipython3",
   "version": "3.10.10"
  }
 },
 "nbformat": 4,
 "nbformat_minor": 5
}
