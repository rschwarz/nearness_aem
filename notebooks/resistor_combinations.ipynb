{
 "cells": [
  {
   "cell_type": "markdown",
   "id": "a20fb46e-4a3e-43e9-97bd-3314ea40f7d2",
   "metadata": {},
   "source": [
    "# Resistor Combinations\n",
    "\n",
    "By combining multiple resistors in parallel or series, new resistor values can be achieved.\n",
    "\n",
    "Here, we evaluate approximations of values with 2 or 3 resistors."
   ]
  },
  {
   "cell_type": "markdown",
   "id": "e5f22e00-5f19-4477-bea7-52aca689b3b3",
   "metadata": {},
   "source": [
    "## E12 Series\n",
    "\n",
    "Resistors are commonly available in standardized sizes."
   ]
  },
  {
   "cell_type": "code",
   "execution_count": 21,
   "id": "f063c695-ff10-41c8-b782-bad8e4e86e61",
   "metadata": {},
   "outputs": [],
   "source": [
    "# here, starting from 1, using just one order of magnitude\n",
    "e6 = [1.,       1.5,      2.2,      3.3,      4.7,      6.8,      10.]\n",
    "e12 = [1., 1.2, 1.5, 1.8, 2.2, 2.7, 3.3, 3.9, 4.7, 5.6, 6.8, 8.2, 10.]"
   ]
  },
  {
   "cell_type": "markdown",
   "id": "55b3bac1-0311-43e7-b7bd-b0f4a4668fcb",
   "metadata": {},
   "source": [
    "## Combinations"
   ]
  },
  {
   "cell_type": "code",
   "execution_count": 2,
   "id": "78488f0b-db10-4b81-b712-1a264da108b8",
   "metadata": {},
   "outputs": [],
   "source": [
    "import itertools"
   ]
  },
  {
   "cell_type": "code",
   "execution_count": 8,
   "id": "6312e632-e53b-47c4-a2cd-37ceac2cc486",
   "metadata": {},
   "outputs": [],
   "source": [
    "def pairs(values):\n",
    "    yield from itertools.combinations_with_replacement(values, 2)"
   ]
  },
  {
   "cell_type": "code",
   "execution_count": 37,
   "id": "d398b1ff-1c7c-42ad-a1b8-a7e3e01451b5",
   "metadata": {},
   "outputs": [],
   "source": [
    "def series(values):\n",
    "    s = set()\n",
    "    for (v1, a1, l1), (v2, a2, l2) in pairs(values):\n",
    "        s.add((v1 + v2, a1 | a2,  f\"({l1} -- {l2})\"))\n",
    "    return s"
   ]
  },
  {
   "cell_type": "code",
   "execution_count": 38,
   "id": "dcbe172b-6532-4fa2-b0d5-5c14066a74df",
   "metadata": {},
   "outputs": [],
   "source": [
    "def parallel(values):\n",
    "    s = set()\n",
    "    for (v1, a1, l1), (v2, a2, l2) in pairs(values):\n",
    "        s.add((1.0/(1/v1 + 1/v2), a1 | a2, f\"({l1} || {l2})\"))\n",
    "    return s"
   ]
  },
  {
   "cell_type": "markdown",
   "id": "72046874-515d-4497-a6af-07e8d1bd8dc4",
   "metadata": {},
   "source": [
    "## Pairs"
   ]
  },
  {
   "cell_type": "code",
   "execution_count": 46,
   "id": "a4d6afd0-8e8b-4633-b2a3-9bfe97147231",
   "metadata": {},
   "outputs": [],
   "source": [
    "# base values across 3 orders of magnitude\n",
    "base = e12\n",
    "candidates = set(base) | set([10 * v for v in base]) | set([100 * v for v in base])"
   ]
  },
  {
   "cell_type": "code",
   "execution_count": 47,
   "id": "4c147c00-b5de-4574-9056-81919b708bf1",
   "metadata": {},
   "outputs": [],
   "source": [
    "labeled = [(v, frozenset([v]), f\"{v}\") for v in candidates]\n",
    "values = set(labeled)\n",
    "values.update(series(labeled))\n",
    "values.update(parallel(labeled))"
   ]
  },
  {
   "cell_type": "code",
   "execution_count": 49,
   "id": "9f866866-acf5-4261-b6f9-feb38d0eebec",
   "metadata": {},
   "outputs": [
    {
     "data": {
      "text/plain": [
       "1443"
      ]
     },
     "execution_count": 49,
     "metadata": {},
     "output_type": "execute_result"
    }
   ],
   "source": [
    "# see what we have so far\n",
    "len(values)"
   ]
  },
  {
   "cell_type": "markdown",
   "id": "c5085c49-253a-4e06-ae37-028b1a1219f1",
   "metadata": {},
   "source": [
    "## Finding required values"
   ]
  },
  {
   "cell_type": "code",
   "execution_count": 102,
   "id": "2a3ff2f8-fee5-4886-a642-de061fb08110",
   "metadata": {},
   "outputs": [],
   "source": [
    "def find(required, tol=0.01, values=values):\n",
    "    for v in values:\n",
    "        (value, components, label) = v\n",
    "        abs_err = abs(required - value)\n",
    "        rel_err = abs_err / value\n",
    "        if rel_err <= tol:\n",
    "            yield v"
   ]
  },
  {
   "cell_type": "code",
   "execution_count": 103,
   "id": "f199a7c4-2810-406c-9edb-160358c6bc19",
   "metadata": {},
   "outputs": [],
   "source": [
    "needed = [100, 103,  113, 141, 215, 439, 1670]"
   ]
  },
  {
   "cell_type": "code",
   "execution_count": 104,
   "id": "93b56b25-ccbb-4ecd-8325-7a41aa0392d6",
   "metadata": {},
   "outputs": [],
   "source": [
    "rows = []\n",
    "for req in needed:\n",
    "    matches = list(find(req))\n",
    "    for match in matches:\n",
    "        prefix = (len(rows), req)\n",
    "        rows.append(prefix + match)"
   ]
  },
  {
   "cell_type": "code",
   "execution_count": 105,
   "id": "64987175-2670-46a6-bf7e-a720cc4a8488",
   "metadata": {},
   "outputs": [
    {
     "data": {
      "text/plain": [
       "[(0, 100, 101.0, frozenset({33.0, 68.0}), '(33.0 -- 68.0)'),\n",
       " (1, 100, 101.0, frozenset({1.0, 100.0}), '(1.0 -- 100.0)'),\n",
       " (2, 100, 100.0, frozenset({18.0, 82.0}), '(18.0 -- 82.0)'),\n",
       " (3, 100, 100.0, frozenset({100.0}), '100.0')]"
      ]
     },
     "execution_count": 105,
     "metadata": {},
     "output_type": "execute_result"
    }
   ],
   "source": [
    "rows[:4]"
   ]
  },
  {
   "cell_type": "markdown",
   "id": "5b778abf-5ab5-4880-9dbb-96289ff4679a",
   "metadata": {},
   "source": [
    "## Selecting subset of candidates"
   ]
  },
  {
   "cell_type": "code",
   "execution_count": 106,
   "id": "ada5e723-e8b2-4271-bafe-7baf41dcccdd",
   "metadata": {},
   "outputs": [],
   "source": [
    "import mip"
   ]
  },
  {
   "cell_type": "code",
   "execution_count": 107,
   "id": "28952e33-ecdf-4afd-9106-8ef0464f0716",
   "metadata": {},
   "outputs": [],
   "source": [
    "m = mip.Model(solver_name=mip.CBC)\n",
    "m.verbose = 0"
   ]
  },
  {
   "cell_type": "code",
   "execution_count": 108,
   "id": "ef1f51cf-b3e5-4973-80e5-75feb01ba13e",
   "metadata": {},
   "outputs": [],
   "source": [
    "# variables to choose a component\n",
    "choose = {c: m.add_var(var_type=mip.BINARY, name=f\"choose_{c}\") for c in candidates}"
   ]
  },
  {
   "cell_type": "code",
   "execution_count": 109,
   "id": "ce55298a-56c4-4297-8629-fcfea977ddbb",
   "metadata": {},
   "outputs": [],
   "source": [
    "# vars to choose a combination\n",
    "comb = [m.add_var(var_type=mip.BINARY, name=f\"row_{row[0]}\") for row in rows]"
   ]
  },
  {
   "cell_type": "code",
   "execution_count": 110,
   "id": "116a828b-d817-487f-970a-c40120642db5",
   "metadata": {},
   "outputs": [],
   "source": [
    "# constraint: couple combination with component\n",
    "for row in rows:\n",
    "    (i, _, _, components, _) = row\n",
    "    for comp in components:\n",
    "        m.add_constr(comb[i] <= choose[comp])"
   ]
  },
  {
   "cell_type": "code",
   "execution_count": 111,
   "id": "da544ff4-2375-40dd-ab63-ee97a30e25d0",
   "metadata": {},
   "outputs": [],
   "source": [
    "# constraint: one combination for each required value\n",
    "for req in needed:\n",
    "    matches = [row[0] for row in rows if row[1] == req]\n",
    "    m.add_constr(mip.xsum([comb[m] for m in matches]) == 1)"
   ]
  },
  {
   "cell_type": "code",
   "execution_count": 112,
   "id": "9fbeb738-7528-41a0-b781-f7f0e5e469b5",
   "metadata": {},
   "outputs": [],
   "source": [
    "# objective: minimize number of components\n",
    "m.objective = mip.minimize(mip.xsum(choose.values()))"
   ]
  },
  {
   "cell_type": "code",
   "execution_count": 113,
   "id": "75d7caeb-9b34-4aeb-a1e2-012adcc4e49a",
   "metadata": {},
   "outputs": [
    {
     "data": {
      "text/plain": [
       "<OptimizationStatus.OPTIMAL: 0>"
      ]
     },
     "execution_count": 113,
     "metadata": {},
     "output_type": "execute_result"
    }
   ],
   "source": [
    "# solve\n",
    "m.optimize()"
   ]
  },
  {
   "cell_type": "code",
   "execution_count": 114,
   "id": "0a088332-4c09-4a8e-82cf-e4c7bc9fa61c",
   "metadata": {},
   "outputs": [
    {
     "data": {
      "text/plain": [
       "[33.0, 47.0, 56.0, 68.0, 180.0, 220.00000000000003, 680.0, 1000.0]"
      ]
     },
     "execution_count": 114,
     "metadata": {},
     "output_type": "execute_result"
    }
   ],
   "source": [
    "# extract solution: chosen components\n",
    "sol = []\n",
    "for (k,v) in choose.items():\n",
    "    if v.x > 0.5:\n",
    "        sol.append(k)\n",
    "sorted(sol)"
   ]
  },
  {
   "cell_type": "code",
   "execution_count": 115,
   "id": "cc30982a-6a95-42c5-8562-3f45fac6970c",
   "metadata": {},
   "outputs": [
    {
     "name": "stdout",
     "output_type": "stream",
     "text": [
      "(0, 100, 101.0, frozenset({33.0, 68.0}), '(33.0 -- 68.0)')\n",
      "(4, 103, 103.0, frozenset({56.0, 47.0}), '(47.0 -- 56.0)')\n",
      "(14, 113, 112.0, frozenset({56.0}), '(56.0 -- 56.0)')\n",
      "(15, 141, 142.32558139534882, frozenset({680.0, 180.0}), '(680.0 || 180.0)')\n",
      "(18, 215, 213.0, frozenset({33.0, 180.0}), '(33.0 -- 180.0)')\n",
      "(21, 439, 440.00000000000006, frozenset({220.00000000000003}), '(220.00000000000003 -- 220.00000000000003)')\n",
      "(22, 1670, 1680.0, frozenset({680.0, 1000.0}), '(680.0 -- 1000.0)')\n"
     ]
    }
   ],
   "source": [
    "# extract solution: chosen combinations\n",
    "for row in rows:\n",
    "    if comb[row[0]].x > 0.5:\n",
    "        print(row)"
   ]
  },
  {
   "cell_type": "code",
   "execution_count": null,
   "id": "7a5c7a55-9c18-4aa0-aece-c19bbce7d876",
   "metadata": {},
   "outputs": [],
   "source": []
  }
 ],
 "metadata": {
  "kernelspec": {
   "display_name": "Python 3 (ipykernel)",
   "language": "python",
   "name": "python3"
  },
  "language_info": {
   "codemirror_mode": {
    "name": "ipython",
    "version": 3
   },
   "file_extension": ".py",
   "mimetype": "text/x-python",
   "name": "python",
   "nbconvert_exporter": "python",
   "pygments_lexer": "ipython3",
   "version": "3.10.10"
  }
 },
 "nbformat": 4,
 "nbformat_minor": 5
}
